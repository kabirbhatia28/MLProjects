{
 "cells": [
  {
   "cell_type": "code",
   "execution_count": 3,
   "metadata": {},
   "outputs": [],
   "source": [
    "import cv2\n",
    "import numpy as np \n",
    "import os\n",
    "import matplotlib.pyplot as plt\n",
    "from sklearn.neighbors import KNeighborsClassifier"
   ]
  },
  {
   "cell_type": "code",
   "execution_count": 5,
   "metadata": {},
   "outputs": [
    {
     "name": "stdout",
     "output_type": "stream",
     "text": [
      "(31, 10001)\n"
     ]
    },
    {
     "ename": "error",
     "evalue": "OpenCV(4.2.0) C:\\projects\\opencv-python\\opencv\\modules\\objdetect\\src\\cascadedetect.cpp:1689: error: (-215:Assertion failed) !empty() in function 'cv::CascadeClassifier::detectMultiScale'\n",
     "output_type": "error",
     "traceback": [
      "\u001b[1;31m---------------------------------------------------------------------------\u001b[0m",
      "\u001b[1;31merror\u001b[0m                                     Traceback (most recent call last)",
      "\u001b[1;32m<ipython-input-5-1bff237b581c>\u001b[0m in \u001b[0;36m<module>\u001b[1;34m\u001b[0m\n\u001b[0;32m     24\u001b[0m \u001b[1;33m\u001b[0m\u001b[0m\n\u001b[0;32m     25\u001b[0m     \u001b[1;32mif\u001b[0m \u001b[0mret\u001b[0m\u001b[1;33m:\u001b[0m\u001b[1;33m\u001b[0m\u001b[1;33m\u001b[0m\u001b[0m\n\u001b[1;32m---> 26\u001b[1;33m         \u001b[0mfaces\u001b[0m \u001b[1;33m=\u001b[0m \u001b[0mdetector\u001b[0m\u001b[1;33m.\u001b[0m\u001b[0mdetectMultiScale\u001b[0m\u001b[1;33m(\u001b[0m\u001b[0mframe\u001b[0m\u001b[1;33m)\u001b[0m\u001b[1;33m\u001b[0m\u001b[1;33m\u001b[0m\u001b[0m\n\u001b[0m\u001b[0;32m     27\u001b[0m \u001b[1;33m\u001b[0m\u001b[0m\n\u001b[0;32m     28\u001b[0m         \u001b[1;32mfor\u001b[0m \u001b[0mface\u001b[0m \u001b[1;32min\u001b[0m \u001b[0mfaces\u001b[0m\u001b[1;33m:\u001b[0m\u001b[1;33m\u001b[0m\u001b[1;33m\u001b[0m\u001b[0m\n",
      "\u001b[1;31merror\u001b[0m: OpenCV(4.2.0) C:\\projects\\opencv-python\\opencv\\modules\\objdetect\\src\\cascadedetect.cpp:1689: error: (-215:Assertion failed) !empty() in function 'cv::CascadeClassifier::detectMultiScale'\n"
     ]
    }
   ],
   "source": [
    "data = np.load(\"face_data.npy\")\n",
    "\n",
    "print(data.shape)\n",
    "\n",
    "X = data[: , 1:].astype(int)\n",
    "y = data[: , 0]\n",
    "\n",
    "model = KNeighborsClassifier()\n",
    "model.fit(X , y)\n",
    "\n",
    "\n",
    "cap = cv2.VideoCapture(0)\n",
    "\n",
    "detector = cv2.CascadeClassifier(\"../Downloads/datasets2/haarcascade_frontalface_default.xml\")\n",
    "\n",
    "#name = input(\"Enter your name: \")\n",
    "\n",
    "frames = []\n",
    "outputs = []\n",
    "\n",
    "while True:\n",
    "    \n",
    "    ret , frame = cap.read()\n",
    "    \n",
    "    if ret:\n",
    "        faces = detector.detectMultiScale(frame)\n",
    "        \n",
    "        for face in faces:\n",
    "            x , y, w , h = face\n",
    "            \n",
    "            cut = frame[y:y+h , x:x+w]\n",
    "            \n",
    "            fix = cv2.resize(cut , (100,100))\n",
    "            gray = cv2.cvtColor(fix , cv2.COLOR_BGR2GRAY)\n",
    "            \n",
    "            out = model.predict([gray.flatten()])\n",
    "           \n",
    "            \n",
    "            cv2.rectangle(frame , (x , y), (x+w , y+h), (255 , 0 , 0) , 2)\n",
    "            \n",
    "            cv2.putText(frame , str(out[0]), (x , y - 10), cv2.FONT_HERSHEY_COMPLEX , 2 , (255 , 0 , 0) , 2)\n",
    "            print(out)\n",
    "            cv2.imshow(\"My Face\", gray)\n",
    "            \n",
    "        cv2.imshow(\"My Screen\",frame)\n",
    "        \n",
    "        \n",
    "        \n",
    "    key = cv2.waitKey(1)\n",
    "    \n",
    "    if key == ord(\"q\"):\n",
    "        break\n",
    "\n",
    "\n",
    "        \n",
    "cap.release()\n",
    "cv2.destroyAllWindows()"
   ]
  },
  {
   "cell_type": "code",
   "execution_count": 2,
   "metadata": {},
   "outputs": [
    {
     "data": {
      "text/plain": [
       "\u001b[1;31mDocstring:\u001b[0m\n",
       "rectangle(img, pt1, pt2, color[, thickness[, lineType[, shift]]]) -> img\n",
       ".   @brief Draws a simple, thick, or filled up-right rectangle.\n",
       ".   \n",
       ".   The function cv::rectangle draws a rectangle outline or a filled rectangle whose two opposite corners\n",
       ".   are pt1 and pt2.\n",
       ".   \n",
       ".   @param img Image.\n",
       ".   @param pt1 Vertex of the rectangle.\n",
       ".   @param pt2 Vertex of the rectangle opposite to pt1 .\n",
       ".   @param color Rectangle color or brightness (grayscale image).\n",
       ".   @param thickness Thickness of lines that make up the rectangle. Negative values, like #FILLED,\n",
       ".   mean that the function has to draw a filled rectangle.\n",
       ".   @param lineType Type of the line. See #LineTypes\n",
       ".   @param shift Number of fractional bits in the point coordinates.\n",
       "\n",
       "\n",
       "\n",
       "rectangle(img, rec, color[, thickness[, lineType[, shift]]]) -> img\n",
       ".   @overload\n",
       ".   \n",
       ".   use `rec` parameter as alternative specification of the drawn rectangle: `r.tl() and\n",
       ".   r.br()-Point(1,1)` are opposite corners\n",
       "\u001b[1;31mType:\u001b[0m      builtin_function_or_method\n"
      ]
     },
     "metadata": {},
     "output_type": "display_data"
    }
   ],
   "source": []
  },
  {
   "cell_type": "code",
   "execution_count": null,
   "metadata": {},
   "outputs": [],
   "source": []
  }
 ],
 "metadata": {
  "kernelspec": {
   "display_name": "Python 3",
   "language": "python",
   "name": "python3"
  },
  "language_info": {
   "codemirror_mode": {
    "name": "ipython",
    "version": 3
   },
   "file_extension": ".py",
   "mimetype": "text/x-python",
   "name": "python",
   "nbconvert_exporter": "python",
   "pygments_lexer": "ipython3",
   "version": "3.7.4"
  }
 },
 "nbformat": 4,
 "nbformat_minor": 4
}
