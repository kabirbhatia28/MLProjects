{
 "cells": [
  {
   "cell_type": "code",
   "execution_count": null,
   "metadata": {},
   "outputs": [],
   "source": [
    "import cv2\n",
    "import dlib\n",
    "import keyboard"
   ]
  },
  {
   "cell_type": "code",
   "execution_count": null,
   "metadata": {},
   "outputs": [],
   "source": [
    "detector = dlib.get_frontal_face_detector()\n",
    "\n",
    "predictor = dlib.shape_predictor(\"shape_predictor_68_face_landmarks.dat\")\n",
    "\n",
    "cap = cv2.VideoCapture(0)\n",
    "\n",
    "\n",
    "\n",
    "while True:\n",
    "    \n",
    "    ret , frame = cap.read()\n",
    "    gray = cv2.cvtColor(frame , cv2.COLOR_BGR2GRAY)\n",
    "    \n",
    "    \n",
    "    faces = detector(gray)\n",
    "   \n",
    "    for face in faces:\n",
    "        landmarks = predictor(frame , face)\n",
    "           # print(landmarks.parts())\n",
    "        lip_up = landmarks.parts()[62].y\n",
    "        lip_down = landmarks.parts()[66].y\n",
    "        \n",
    "        if lip_down - lip_up > 5:\n",
    "            #print(\"Open\")\n",
    "            keyboard.releasel(\"down\")\n",
    "        else:\n",
    "            keyboard.press(\"down\")\n",
    "            #print(\"Close\")\n",
    "        \n",
    "            #print(nose.x , nose.y)\n",
    "            \n",
    "        \n",
    "        \n",
    "    #print(faces)\n",
    "    \n",
    "    if ret:\n",
    "        cv2.imshow(\"My Screen\", frame)\n",
    "        \n",
    "    \n",
    "    key = cv2.waitKey(1)\n",
    "    \n",
    "    if key == ord(\"q\"):\n",
    "        break\n",
    "\n",
    "\n",
    "        \n",
    "cap.release()\n",
    "cv2.destroyAllWindows()"
   ]
  },
  {
   "cell_type": "code",
   "execution_count": null,
   "metadata": {},
   "outputs": [],
   "source": []
  }
 ],
 "metadata": {
  "kernelspec": {
   "display_name": "Python 3",
   "language": "python",
   "name": "python3"
  },
  "language_info": {
   "codemirror_mode": {
    "name": "ipython",
    "version": 3
   },
   "file_extension": ".py",
   "mimetype": "text/x-python",
   "name": "python",
   "nbconvert_exporter": "python",
   "pygments_lexer": "ipython3",
   "version": "3.7.4"
  }
 },
 "nbformat": 4,
 "nbformat_minor": 4
}
